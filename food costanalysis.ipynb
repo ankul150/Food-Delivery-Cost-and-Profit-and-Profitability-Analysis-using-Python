{
 "cells": [
  {
   "cell_type": "code",
   "execution_count": null,
   "id": "ea32fcd7-bbd6-4b24-9e70-d984783d78cf",
   "metadata": {},
   "outputs": [],
   "source": [
    "import pandas as pd\n",
    "import numpy as np"
   ]
  },
  {
   "cell_type": "code",
   "execution_count": null,
   "id": "91e649df-edae-4d09-96f8-e59c28bb8f26",
   "metadata": {},
   "outputs": [],
   "source": [
    "data =pd.read_csv('food_orders_new_delhi.csv')"
   ]
  },
  {
   "cell_type": "code",
   "execution_count": null,
   "id": "1e6a60c3-4483-4362-95ab-224bb81b3d1d",
   "metadata": {},
   "outputs": [],
   "source": [
    "data.head()\n"
   ]
  },
  {
   "cell_type": "code",
   "execution_count": null,
   "id": "0e050cdb-773a-48a1-bb33-4347e5a433de",
   "metadata": {
    "scrolled": true
   },
   "outputs": [],
   "source": [
    "data.info()   # to show indexes, columns, data-types of each column, memory at once"
   ]
  },
  {
   "cell_type": "code",
   "execution_count": null,
   "id": "ded89fb6-9935-41ff-b21e-3049f962a523",
   "metadata": {},
   "outputs": [],
   "source": [
    "from datetime import datetime\n",
    "# convert 'data and time' columns to datetime\n",
    "\n",
    "data['Order Date and Time'] = pd.to_datetime(data['Order Date and Time'])\n",
    "data['Delivery Date and Time'] = pd.to_datetime(data['Delivery Date and Time'])\n"
   ]
  },
  {
   "cell_type": "code",
   "execution_count": null,
   "id": "51226c82-aaa9-430c-9d61-1f6c26682b0f",
   "metadata": {},
   "outputs": [],
   "source": [
    "data.info()"
   ]
  },
  {
   "cell_type": "code",
   "execution_count": null,
   "id": "e41a1c4a-59b6-4204-b4f0-9479240457c4",
   "metadata": {},
   "outputs": [],
   "source": [
    "def extract_discount(discount_str):\n",
    "    if isinstance(discount_str, str):\n",
    "        if 'off' in discount_str:\n",
    "            return float(discount_str.split(' ')[0])\n",
    "        elif '%' in discount_str:\n",
    "            return float(discount_str.split('%')[0])\n",
    "        else:\n",
    "            return 0.0\n",
    "    else:\n",
    "        return 0.0\n",
    "\n",
    "data['Discount Percentage'] = data['Discounts and Offers'].apply(lambda x: extract_discount(x))\n",
    "data['Discount Amount'] = data.apply(lambda x: (x['Order Value'] * x['Discount Percentage']/100) if '%' in str(x['Discounts and Offers']) else x['Discount Percentage'], axis=1)\n",
    "data.head()"
   ]
  },
  {
   "cell_type": "code",
   "execution_count": null,
   "id": "b3d207c8-5741-4abc-b354-853551933528",
   "metadata": {},
   "outputs": [],
   "source": [
    "data.info()"
   ]
  },
  {
   "cell_type": "code",
   "execution_count": null,
   "id": "bc81dc39-250f-4470-948f-18b8cc5621b7",
   "metadata": {},
   "outputs": [],
   "source": [
    "# calculate total costs and revenue per order\n",
    "# I think there are 3-4 comumns that will get the total cast and revenue\n",
    "data['Total Costs'] = data['Delivery Fee'] + data['Payment Processing Fee'] + data['Discount Amount']\n",
    "data['Revenue'] = data['Commission Fee']\n",
    "data['Profit'] = data['Revenue'] - data['Total Costs']\n",
    "\n",
    "# aggregate data to get overall metrics\n",
    "total_orders = data.shape[0]\n",
    "total_revenue = data['Revenue'].sum()\n",
    "total_costs = data['Total Costs'].sum()\n",
    "total_profit = data['Profit'].sum()\n",
    "\n",
    "metrics = {\n",
    "    'Total Orders': total_orders,\n",
    "    'Total Revenue': total_revenue,\n",
    "    'total Cost': total_costs,\n",
    "    'total Profit': total_profit}\n",
    "\n",
    "print(metrics)\n",
    "metrics = pd.DataFrame({\n",
    "    'Total Orders': total_orders,\n",
    "    'Total Revenue': total_revenue,\n",
    "    'total Cost': total_costs,\n",
    "    'total Profit': total_profit}, index =[\"a\"])\n",
    "metrics\n"
   ]
  },
  {
   "cell_type": "code",
   "execution_count": null,
   "id": "3eaebe95-e7d9-4d9c-914d-1e03b0e371ca",
   "metadata": {},
   "outputs": [],
   "source": [
    "data['Profit'].head(20)"
   ]
  },
  {
   "cell_type": "code",
   "execution_count": null,
   "id": "db3390ab-6f39-434f-8cad-3a8b63dcf09c",
   "metadata": {},
   "outputs": [],
   "source": [
    "data.info()"
   ]
  },
  {
   "cell_type": "code",
   "execution_count": null,
   "id": "22dfaca4-f4d1-42c9-83e1-c0b25369d0c3",
   "metadata": {},
   "outputs": [],
   "source": [
    "\n"
   ]
  },
  {
   "cell_type": "code",
   "execution_count": null,
   "id": "1741d712-011c-47b4-9a53-27274fa7ce65",
   "metadata": {},
   "outputs": [],
   "source": [
    "import matplotlib.pyplot as plt\n",
    "\n",
    "#histogram for profit per order\n",
    "plt.hist(data['Profit'], bins=30, color='skyblue', edgecolor='black')\n",
    "plt.title('Profit Distribution per Order in Food Delivery')\n",
    "plt.xlabel('Profit')\n",
    "plt.ylabel('Number of Orders')\n",
    "plt.axvline(data['Profit'].mean(), color='red', linestyle='dashed', linewidth=1)\n",
    "plt.show()"
   ]
  },
  {
   "cell_type": "code",
   "execution_count": null,
   "id": "a4792301-ee52-4ddc-8029-13f51b4972a1",
   "metadata": {},
   "outputs": [],
   "source": [
    "# pie chart for the proportion of total costs\n",
    "costs_breakdown = data[['Delivery Fee',  'Payment Processing Fee', 'Discount Amount']].sum()\n",
    "plt.figure(figsize=(7, 7))\n",
    "plt.pie(costs_breakdown, labels=costs_breakdown.index, autopct='%1.f%%', startangle=140, colors=['tomato', 'gold', 'lightblue'])\n",
    "plt.title('Proportion of Total Cost in food delivery')\n",
    "plt.show()"
   ]
  },
  {
   "cell_type": "code",
   "execution_count": null,
   "id": "fb5cbadc-a98e-4b44-a9dc-07145cb38dfa",
   "metadata": {},
   "outputs": [],
   "source": [
    "# bar chart for total revenue, costs, and profit\n",
    "totals = ['Total Revenue', 'Total Costs', 'Total Profit']\n",
    "values = [total_revenue, total_costs, total_profit]\n",
    "\n",
    "plt.figure(figsize=(8, 6))\n",
    "plt.bar(totals, values, color=['green', 'red', 'blue'])\n",
    "plt.title('Total Revenue, Costs, and Profit')\n",
    "plt.ylabel('Amount (INR)')\n",
    "plt.show()"
   ]
  },
  {
   "cell_type": "code",
   "execution_count": null,
   "id": "74583774-c2bc-4313-a497-2d4509eec5aa",
   "metadata": {},
   "outputs": [],
   "source": [
    "total_revenue"
   ]
  },
  {
   "cell_type": "code",
   "execution_count": null,
   "id": "0ff1d57b-ddcb-4c37-bd4c-68103ad6b074",
   "metadata": {},
   "outputs": [],
   "source": [
    "total_costs"
   ]
  },
  {
   "cell_type": "code",
   "execution_count": null,
   "id": "906f1375-d3c5-4398-8625-3f611b8aec02",
   "metadata": {},
   "outputs": [],
   "source": [
    "total_profit"
   ]
  },
  {
   "cell_type": "code",
   "execution_count": null,
   "id": "a29d9f7e-147e-4f46-977f-21f54715fc5d",
   "metadata": {},
   "outputs": [],
   "source": [
    "data['Commission Percentage'] = (data['Commission Fee'] / data['Order Value']) * 100\n",
    "data['Commission Percentage'].mean()\n",
    "data['Effective Discount Percentage'] = (data['Discount Amount'] / data['Order Value']) * 100\n",
    "data['Effective Discount Percentage'].mean()"
   ]
  },
  {
   "cell_type": "code",
   "execution_count": null,
   "id": "9143b37a-c82c-44c2-9113-cb5de19542c9",
   "metadata": {},
   "outputs": [],
   "source": [
    "# filter the dataset for profitable order\n",
    "profitable_orders = data[data['Profit']>0]\n",
    "\n",
    "# calculate the average commision percentage for profitable orders\n",
    "profitable_orders['Commission Percentage'] = (profitable_orders['Commission Fee'] / profitable_orders['Order Value']) * 100\n",
    "\n",
    "# calculte the average discount percentage for profitable orders\n",
    "profitable_orders['Effective Discount Percentage'] = (profitable_orders['Discount Amount'] / profitable_orders['Order Value']) * 100\n",
    "\n",
    "# calculate the new averages\n",
    "new_avg_commission_percentage = profitable_orders['Commission Percentage'].mean()\n",
    "new_avg_discount_percentage = profitable_orders['Effective Discount Percentage'].mean()\n",
    "\n",
    "print(new_avg_commission_percentage, new_avg_discount_percentage)"
   ]
  },
  {
   "cell_type": "code",
   "execution_count": null,
   "id": "36c6b722-1784-498a-8e22-f90ef0e53da3",
   "metadata": {},
   "outputs": [],
   "source": [
    "# filter the dataset for profitable orders\n",
    "profitable_orders = data[data['Profit'] > 0]\n",
    "\n",
    "# calculate the average commission percentage for profitable orders\n",
    "profitable_orders['Commission Percentage'] = (profitable_orders['Commission Fee'] / profitable_orders['Order Value']) * 100\n",
    "\n",
    "# calculate the average discount percentage for profitable orders\n",
    "profitable_orders['Effective Discount Percentage'] = (profitable_orders['Discount Amount'] / profitable_orders['Order Value']) * 100\n",
    "\n",
    "# calculate the new averages\n",
    "new_avg_commission_percentage = profitable_orders['Commission Percentage'].mean()\n",
    "new_avg_discount_percentage = profitable_orders['Effective Discount Percentage'].mean()\n",
    "\n",
    "print(new_avg_commission_percentage, new_avg_discount_percentage)"
   ]
  },
  {
   "cell_type": "code",
   "execution_count": null,
   "id": "1cdf0c47-a609-43eb-8ed0-4103903f6f67",
   "metadata": {},
   "outputs": [],
   "source": [
    "# simulate profitability with recommended discounts and commissions\n",
    "recommended_commission_percentage = 30.0\n",
    "recommended_discount_percentage = 6.0\n",
    "\n",
    "# calculate the simulated commission fee and discount amount using recommended percentage\n",
    "data['Simulated Commission Fee'] = data['Order Value'] * (recommended_commission_percentage / 100)\n",
    "data['Simulated Discount Amount'] = data['Order Value'] * (recommended_discount_percentage / 100)\n",
    "\n",
    "# recalculate total costs and profit with simulated values\n",
    "data['Simulated Total Costs'] = (data['Delivery Fee'] +\n",
    "                                 data['Payment Processing Fee'] +\n",
    "                                 data['Simulated Discount Amount'])\n",
    "\n",
    "data['Simulated Profit'] = (data['Simulated Commission Fee'] -\n",
    "                            data['Simulated Total Costs'])\n",
    "\n",
    "# visualizing the comparison\n",
    "import seaborn as sns\n",
    "\n",
    "plt.figure(figsize=(14, 7))\n",
    "\n",
    "# actual profitability\n",
    "sns.kdeplot(data['Profit'], label='Actual Profitability', fill=True, alpha=0.5, linewidth=2)\n",
    "\n",
    "# simulated profitability\n",
    "sns.kdeplot(data['Simulated Profit'], label='Estimated Profitablity with recommended Rates', fill=True, alpha=0.5, linewidth=2)\n",
    "\n",
    "plt.title('Comparison of Profitability in Food Delivery: Actual vs. Recommended Discounts and Commissions')\n",
    "plt.xlabel('Profit')\n",
    "plt.ylabel('Density')\n",
    "plt.legend(loc='upper left')\n",
    "plt.show()\n",
    "\n"
   ]
  },
  {
   "cell_type": "code",
   "execution_count": null,
   "id": "2528ccc6-9196-4981-941a-70a64fd333d1",
   "metadata": {},
   "outputs": [],
   "source": [
    "data['Simulated Profit'].sum()"
   ]
  },
  {
   "cell_type": "code",
   "execution_count": null,
   "id": "337c5134-a23d-4ec4-b575-141a302b078d",
   "metadata": {},
   "outputs": [],
   "source": [
    "data['Simulated Total Costs'].sum()"
   ]
  },
  {
   "cell_type": "code",
   "execution_count": null,
   "id": "1f3b109e-6976-4d25-ae4a-7294ccf8710f",
   "metadata": {},
   "outputs": [],
   "source": [
    "data['Simulated Commission Fee'].sum()"
   ]
  },
  {
   "cell_type": "code",
   "execution_count": null,
   "id": "a6442a04-cfe9-44c1-92c8-6e9616884843",
   "metadata": {},
   "outputs": [],
   "source": []
  }
 ],
 "metadata": {
  "kernelspec": {
   "display_name": "Python 3 (ipykernel)",
   "language": "python",
   "name": "python3"
  },
  "language_info": {
   "codemirror_mode": {
    "name": "ipython",
    "version": 3
   },
   "file_extension": ".py",
   "mimetype": "text/x-python",
   "name": "python",
   "nbconvert_exporter": "python",
   "pygments_lexer": "ipython3",
   "version": "3.12.5"
  }
 },
 "nbformat": 4,
 "nbformat_minor": 5
}
